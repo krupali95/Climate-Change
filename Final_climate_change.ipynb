{
 "cells": [
  {
   "cell_type": "markdown",
   "id": "096e8a83",
   "metadata": {},
   "source": [
    "# Steps:\n",
    "\n",
    "\n",
    "   - Split data into training and testing sets based on a specified 'split_condition'.\n",
    "      - train = 1853 to 2000 \n",
    "      - test = 2000 to till\n",
    "      - X features tmin, af,rain,tavg\n",
    "      - y feature tmax\n",
    "   - Standardize feature variables using `StandardScaler`.\n",
    "\n",
    "   - Create a dictionary containing various regression models.\n",
    "\n",
    "   - Iterate through models, fit them on training data, and evaluate on test data.\n",
    "\n",
    " **RandomForest Hyperparameter Tuning:**\n",
    "   - Define hyperparameter grid for RandomForestRegressor.\n",
    "   - Perform randomized search using `RandomizedSearchCV`.\n",
    "\n",
    "\n",
    " ** ElasticNet Hyperparameter Tuning:**\n",
    "   - Define hyperparameter grid for ElasticNet.\n",
    "   - Perform randomized search using `RandomizedSearchCV`.\n",
    "\n",
    " **Lasso Hyperparameter Tuning:**\n",
    "    - Define hyperparameter grid for Lasso.\n",
    "    - Perform randomized search using `RandomizedSearchCV`.\n",
    "\n",
    "\n",
    " **Predictions and Results:**\n",
    "    - Predict 'tmax' values using the best model and create a DataFrame of predictions and actual values.\n"
   ]
  },
  {
   "cell_type": "code",
   "execution_count": 15,
   "id": "f9fe6ad6",
   "metadata": {},
   "outputs": [],
   "source": [
    "import pandas as pd\n",
    "import numpy as np\n",
    "import matplotlib.pyplot as plt;\n",
    "import seaborn as sns\n",
    "from sklearn.cluster import KMeans\n",
    "from sklearn.preprocessing import StandardScaler\n",
    "from sklearn.model_selection import train_test_split, cross_val_score\n",
    "from sklearn.model_selection import RandomizedSearchCV, GridSearchCV\n",
    "from sklearn.ensemble import RandomForestRegressor\n",
    "from sklearn.linear_model import LinearRegression, ElasticNet, Lasso\n",
    "from sklearn.ensemble import GradientBoostingRegressor\n",
    "from sklearn.svm import SVR\n",
    "from catboost import CatBoostRegressor\n",
    "from sklearn.kernel_ridge import KernelRidge\n",
    "\n",
    "import warnings\n",
    "warnings.filterwarnings('ignore')"
   ]
  },
  {
   "cell_type": "code",
   "execution_count": 16,
   "id": "78d4e26b",
   "metadata": {},
   "outputs": [
    {
     "data": {
      "text/html": [
       "<div>\n",
       "<style scoped>\n",
       "    .dataframe tbody tr th:only-of-type {\n",
       "        vertical-align: middle;\n",
       "    }\n",
       "\n",
       "    .dataframe tbody tr th {\n",
       "        vertical-align: top;\n",
       "    }\n",
       "\n",
       "    .dataframe thead th {\n",
       "        text-align: right;\n",
       "    }\n",
       "</style>\n",
       "<table border=\"1\" class=\"dataframe\">\n",
       "  <thead>\n",
       "    <tr style=\"text-align: right;\">\n",
       "      <th></th>\n",
       "      <th>yyyy</th>\n",
       "      <th>mm</th>\n",
       "      <th>tmax</th>\n",
       "      <th>tmin</th>\n",
       "      <th>af</th>\n",
       "      <th>rain</th>\n",
       "      <th>sun</th>\n",
       "    </tr>\n",
       "  </thead>\n",
       "  <tbody>\n",
       "    <tr>\n",
       "      <th>0</th>\n",
       "      <td>NaN</td>\n",
       "      <td>NaN</td>\n",
       "      <td>degC</td>\n",
       "      <td>degC</td>\n",
       "      <td>days</td>\n",
       "      <td>mm</td>\n",
       "      <td>hours</td>\n",
       "    </tr>\n",
       "    <tr>\n",
       "      <th>1</th>\n",
       "      <td>1853.0</td>\n",
       "      <td>1.0</td>\n",
       "      <td>8.4</td>\n",
       "      <td>2.7</td>\n",
       "      <td>4</td>\n",
       "      <td>62.8</td>\n",
       "      <td>---</td>\n",
       "    </tr>\n",
       "    <tr>\n",
       "      <th>2</th>\n",
       "      <td>1853.0</td>\n",
       "      <td>2.0</td>\n",
       "      <td>3.2</td>\n",
       "      <td>-1.8</td>\n",
       "      <td>19</td>\n",
       "      <td>29.3</td>\n",
       "      <td>---</td>\n",
       "    </tr>\n",
       "    <tr>\n",
       "      <th>3</th>\n",
       "      <td>1853.0</td>\n",
       "      <td>3.0</td>\n",
       "      <td>7.7</td>\n",
       "      <td>-0.6</td>\n",
       "      <td>20</td>\n",
       "      <td>25.9</td>\n",
       "      <td>---</td>\n",
       "    </tr>\n",
       "    <tr>\n",
       "      <th>4</th>\n",
       "      <td>1853.0</td>\n",
       "      <td>4.0</td>\n",
       "      <td>12.6</td>\n",
       "      <td>4.5</td>\n",
       "      <td>0</td>\n",
       "      <td>60.1</td>\n",
       "      <td>---</td>\n",
       "    </tr>\n",
       "    <tr>\n",
       "      <th>...</th>\n",
       "      <td>...</td>\n",
       "      <td>...</td>\n",
       "      <td>...</td>\n",
       "      <td>...</td>\n",
       "      <td>...</td>\n",
       "      <td>...</td>\n",
       "      <td>...</td>\n",
       "    </tr>\n",
       "    <tr>\n",
       "      <th>2043</th>\n",
       "      <td>2023.0</td>\n",
       "      <td>3.0</td>\n",
       "      <td>10.6</td>\n",
       "      <td>4.5</td>\n",
       "      <td>3   1</td>\n",
       "      <td>4.9</td>\n",
       "      <td>65.9   Provisional</td>\n",
       "    </tr>\n",
       "    <tr>\n",
       "      <th>2044</th>\n",
       "      <td>2023.0</td>\n",
       "      <td>4.0</td>\n",
       "      <td>13.7</td>\n",
       "      <td>5.1</td>\n",
       "      <td>1</td>\n",
       "      <td>65.9</td>\n",
       "      <td>154.7   Provisional</td>\n",
       "    </tr>\n",
       "    <tr>\n",
       "      <th>2045</th>\n",
       "      <td>2023.0</td>\n",
       "      <td>5.0</td>\n",
       "      <td>18.3</td>\n",
       "      <td>*    8.4</td>\n",
       "      <td>0</td>\n",
       "      <td>51.2</td>\n",
       "      <td>221.5   Provisional</td>\n",
       "    </tr>\n",
       "    <tr>\n",
       "      <th>2046</th>\n",
       "      <td>2023.0</td>\n",
       "      <td>6.0</td>\n",
       "      <td>23.8</td>\n",
       "      <td>12.1</td>\n",
       "      <td>0</td>\n",
       "      <td>40.5</td>\n",
       "      <td>226.1   Provisional</td>\n",
       "    </tr>\n",
       "    <tr>\n",
       "      <th>2047</th>\n",
       "      <td>2023.0</td>\n",
       "      <td>7.0</td>\n",
       "      <td>21.5</td>\n",
       "      <td>*   13.0</td>\n",
       "      <td>0</td>\n",
       "      <td>99.9</td>\n",
       "      <td>171.0   Provisional</td>\n",
       "    </tr>\n",
       "  </tbody>\n",
       "</table>\n",
       "<p>2048 rows × 7 columns</p>\n",
       "</div>"
      ],
      "text/plain": [
       "        yyyy   mm  tmax      tmin     af  rain                  sun\n",
       "0        NaN  NaN  degC      degC   days    mm                hours\n",
       "1     1853.0  1.0   8.4       2.7      4  62.8                  ---\n",
       "2     1853.0  2.0   3.2      -1.8     19  29.3                  ---\n",
       "3     1853.0  3.0   7.7      -0.6     20  25.9                  ---\n",
       "4     1853.0  4.0  12.6       4.5      0  60.1                  ---\n",
       "...      ...  ...   ...       ...    ...   ...                  ...\n",
       "2043  2023.0  3.0  10.6       4.5  3   1   4.9   65.9   Provisional\n",
       "2044  2023.0  4.0  13.7       5.1      1  65.9  154.7   Provisional\n",
       "2045  2023.0  5.0  18.3  *    8.4      0  51.2  221.5   Provisional\n",
       "2046  2023.0  6.0  23.8      12.1      0  40.5  226.1   Provisional\n",
       "2047  2023.0  7.0  21.5  *   13.0      0  99.9  171.0   Provisional\n",
       "\n",
       "[2048 rows x 7 columns]"
      ]
     },
     "execution_count": 16,
     "metadata": {},
     "output_type": "execute_result"
    }
   ],
   "source": [
    "Data = pd.read_csv('Oxford_Data.csv')\n",
    "Data"
   ]
  },
  {
   "cell_type": "code",
   "execution_count": 17,
   "id": "d65f5f62",
   "metadata": {},
   "outputs": [],
   "source": [
    "# Remove columns sun'\n",
    "columns_to_remove = ['sun']\n",
    "Data = Data.drop(columns=columns_to_remove)"
   ]
  },
  {
   "cell_type": "code",
   "execution_count": 18,
   "id": "5c8a2bac",
   "metadata": {},
   "outputs": [
    {
     "data": {
      "text/plain": [
       "yyyy    float64\n",
       "mm      float64\n",
       "tmax     object\n",
       "tmin     object\n",
       "af       object\n",
       "rain     object\n",
       "dtype: object"
      ]
     },
     "execution_count": 18,
     "metadata": {},
     "output_type": "execute_result"
    }
   ],
   "source": [
    "Data.dtypes    "
   ]
  },
  {
   "cell_type": "code",
   "execution_count": 19,
   "id": "46a9b0bf",
   "metadata": {},
   "outputs": [
    {
     "data": {
      "text/plain": [
       "yyyy      Int64\n",
       "mm        Int64\n",
       "tmax    float64\n",
       "tmin    float64\n",
       "af      float64\n",
       "rain    float64\n",
       "dtype: object"
      ]
     },
     "execution_count": 19,
     "metadata": {},
     "output_type": "execute_result"
    }
   ],
   "source": [
    "Data['yyyy'] = pd.to_numeric(Data['yyyy'], errors='coerce').astype('Int64')\n",
    "Data['mm'] = pd.to_numeric(Data['mm'], errors='coerce').astype('Int64')\n",
    "Data['tmax'] = pd.to_numeric(Data['tmax'], errors='coerce')\n",
    "Data['tmin'] = pd.to_numeric(Data['tmin'], errors='coerce')\n",
    "Data['af'] = pd.to_numeric(Data['af'], errors='coerce')\n",
    "Data['rain'] = pd.to_numeric(Data['rain'], errors='coerce')    \n",
    "Data.dtypes"
   ]
  },
  {
   "cell_type": "code",
   "execution_count": 20,
   "id": "b9b0a6aa",
   "metadata": {},
   "outputs": [],
   "source": [
    "Data = Data.drop(index = Data.index[0])"
   ]
  },
  {
   "cell_type": "code",
   "execution_count": 21,
   "id": "c71fc662",
   "metadata": {},
   "outputs": [
    {
     "data": {
      "text/plain": [
       "yyyy      0\n",
       "mm        0\n",
       "tmax      0\n",
       "tmin     12\n",
       "af      183\n",
       "rain      0\n",
       "dtype: int64"
      ]
     },
     "execution_count": 21,
     "metadata": {},
     "output_type": "execute_result"
    }
   ],
   "source": [
    "Data.apply(pd.isnull).sum() # missing values"
   ]
  },
  {
   "cell_type": "code",
   "execution_count": 22,
   "id": "94ef8814",
   "metadata": {},
   "outputs": [
    {
     "data": {
      "text/html": [
       "<div>\n",
       "<style scoped>\n",
       "    .dataframe tbody tr th:only-of-type {\n",
       "        vertical-align: middle;\n",
       "    }\n",
       "\n",
       "    .dataframe tbody tr th {\n",
       "        vertical-align: top;\n",
       "    }\n",
       "\n",
       "    .dataframe thead th {\n",
       "        text-align: right;\n",
       "    }\n",
       "</style>\n",
       "<table border=\"1\" class=\"dataframe\">\n",
       "  <thead>\n",
       "    <tr style=\"text-align: right;\">\n",
       "      <th></th>\n",
       "      <th>yyyy</th>\n",
       "      <th>mm</th>\n",
       "      <th>tmax</th>\n",
       "      <th>tmin</th>\n",
       "      <th>af</th>\n",
       "      <th>rain</th>\n",
       "      <th>tavg</th>\n",
       "    </tr>\n",
       "  </thead>\n",
       "  <tbody>\n",
       "    <tr>\n",
       "      <th>1</th>\n",
       "      <td>1853</td>\n",
       "      <td>1</td>\n",
       "      <td>8.4</td>\n",
       "      <td>2.7</td>\n",
       "      <td>4.0</td>\n",
       "      <td>62.8</td>\n",
       "      <td>5.55</td>\n",
       "    </tr>\n",
       "    <tr>\n",
       "      <th>2</th>\n",
       "      <td>1853</td>\n",
       "      <td>2</td>\n",
       "      <td>3.2</td>\n",
       "      <td>-1.8</td>\n",
       "      <td>19.0</td>\n",
       "      <td>29.3</td>\n",
       "      <td>0.70</td>\n",
       "    </tr>\n",
       "    <tr>\n",
       "      <th>3</th>\n",
       "      <td>1853</td>\n",
       "      <td>3</td>\n",
       "      <td>7.7</td>\n",
       "      <td>-0.6</td>\n",
       "      <td>20.0</td>\n",
       "      <td>25.9</td>\n",
       "      <td>3.55</td>\n",
       "    </tr>\n",
       "    <tr>\n",
       "      <th>4</th>\n",
       "      <td>1853</td>\n",
       "      <td>4</td>\n",
       "      <td>12.6</td>\n",
       "      <td>4.5</td>\n",
       "      <td>0.0</td>\n",
       "      <td>60.1</td>\n",
       "      <td>8.55</td>\n",
       "    </tr>\n",
       "    <tr>\n",
       "      <th>5</th>\n",
       "      <td>1853</td>\n",
       "      <td>5</td>\n",
       "      <td>16.8</td>\n",
       "      <td>6.1</td>\n",
       "      <td>0.0</td>\n",
       "      <td>59.5</td>\n",
       "      <td>11.45</td>\n",
       "    </tr>\n",
       "    <tr>\n",
       "      <th>...</th>\n",
       "      <td>...</td>\n",
       "      <td>...</td>\n",
       "      <td>...</td>\n",
       "      <td>...</td>\n",
       "      <td>...</td>\n",
       "      <td>...</td>\n",
       "      <td>...</td>\n",
       "    </tr>\n",
       "    <tr>\n",
       "      <th>2043</th>\n",
       "      <td>2023</td>\n",
       "      <td>3</td>\n",
       "      <td>10.6</td>\n",
       "      <td>4.5</td>\n",
       "      <td>NaN</td>\n",
       "      <td>4.9</td>\n",
       "      <td>7.55</td>\n",
       "    </tr>\n",
       "    <tr>\n",
       "      <th>2044</th>\n",
       "      <td>2023</td>\n",
       "      <td>4</td>\n",
       "      <td>13.7</td>\n",
       "      <td>5.1</td>\n",
       "      <td>1.0</td>\n",
       "      <td>65.9</td>\n",
       "      <td>9.40</td>\n",
       "    </tr>\n",
       "    <tr>\n",
       "      <th>2045</th>\n",
       "      <td>2023</td>\n",
       "      <td>5</td>\n",
       "      <td>18.3</td>\n",
       "      <td>NaN</td>\n",
       "      <td>0.0</td>\n",
       "      <td>51.2</td>\n",
       "      <td>NaN</td>\n",
       "    </tr>\n",
       "    <tr>\n",
       "      <th>2046</th>\n",
       "      <td>2023</td>\n",
       "      <td>6</td>\n",
       "      <td>23.8</td>\n",
       "      <td>12.1</td>\n",
       "      <td>0.0</td>\n",
       "      <td>40.5</td>\n",
       "      <td>17.95</td>\n",
       "    </tr>\n",
       "    <tr>\n",
       "      <th>2047</th>\n",
       "      <td>2023</td>\n",
       "      <td>7</td>\n",
       "      <td>21.5</td>\n",
       "      <td>NaN</td>\n",
       "      <td>0.0</td>\n",
       "      <td>99.9</td>\n",
       "      <td>NaN</td>\n",
       "    </tr>\n",
       "  </tbody>\n",
       "</table>\n",
       "<p>2047 rows × 7 columns</p>\n",
       "</div>"
      ],
      "text/plain": [
       "      yyyy  mm  tmax  tmin    af  rain   tavg\n",
       "1     1853   1   8.4   2.7   4.0  62.8   5.55\n",
       "2     1853   2   3.2  -1.8  19.0  29.3   0.70\n",
       "3     1853   3   7.7  -0.6  20.0  25.9   3.55\n",
       "4     1853   4  12.6   4.5   0.0  60.1   8.55\n",
       "5     1853   5  16.8   6.1   0.0  59.5  11.45\n",
       "...    ...  ..   ...   ...   ...   ...    ...\n",
       "2043  2023   3  10.6   4.5   NaN   4.9   7.55\n",
       "2044  2023   4  13.7   5.1   1.0  65.9   9.40\n",
       "2045  2023   5  18.3   NaN   0.0  51.2    NaN\n",
       "2046  2023   6  23.8  12.1   0.0  40.5  17.95\n",
       "2047  2023   7  21.5   NaN   0.0  99.9    NaN\n",
       "\n",
       "[2047 rows x 7 columns]"
      ]
     },
     "execution_count": 22,
     "metadata": {},
     "output_type": "execute_result"
    }
   ],
   "source": [
    "Data['tavg'] = (Data['tmax']+Data['tmin'])/2\n",
    "Data"
   ]
  },
  {
   "cell_type": "markdown",
   "id": "a2ad5d46",
   "metadata": {},
   "source": [
    "# EDA"
   ]
  },
  {
   "cell_type": "code",
   "execution_count": 23,
   "id": "2809626f",
   "metadata": {},
   "outputs": [
    {
     "data": {
      "text/plain": [
       "yyyy    0\n",
       "mm      0\n",
       "tmax    0\n",
       "tmin    0\n",
       "af      0\n",
       "rain    0\n",
       "tavg    0\n",
       "dtype: int64"
      ]
     },
     "execution_count": 23,
     "metadata": {},
     "output_type": "execute_result"
    }
   ],
   "source": [
    "Data[\"tmin\"].fillna( method ='ffill', inplace = True)\n",
    "Data[\"af\"].fillna( method ='ffill', inplace = True)\n",
    "Data[\"tavg\"].fillna( method ='ffill', inplace = True)\n",
    "Data.apply(pd.isnull).sum() # missing values"
   ]
  },
  {
   "cell_type": "code",
   "execution_count": null,
   "id": "9d674483",
   "metadata": {},
   "outputs": [],
   "source": []
  },
  {
   "cell_type": "code",
   "execution_count": 24,
   "id": "b336169b",
   "metadata": {},
   "outputs": [
    {
     "name": "stdout",
     "output_type": "stream",
     "text": [
      "<class 'pandas.core.frame.DataFrame'>\n",
      "RangeIndex: 2047 entries, 1 to 2047\n",
      "Data columns (total 7 columns):\n",
      " #   Column  Non-Null Count  Dtype  \n",
      "---  ------  --------------  -----  \n",
      " 0   yyyy    2047 non-null   Int64  \n",
      " 1   mm      2047 non-null   Int64  \n",
      " 2   tmax    2047 non-null   float64\n",
      " 3   tmin    2047 non-null   float64\n",
      " 4   af      2047 non-null   float64\n",
      " 5   rain    2047 non-null   float64\n",
      " 6   tavg    2047 non-null   float64\n",
      "dtypes: Int64(2), float64(5)\n",
      "memory usage: 116.1 KB\n",
      "None\n"
     ]
    }
   ],
   "source": [
    "print(Data.info())"
   ]
  },
  {
   "cell_type": "code",
   "execution_count": 25,
   "id": "42dc967c",
   "metadata": {},
   "outputs": [
    {
     "name": "stdout",
     "output_type": "stream",
     "text": [
      "              yyyy           mm         tmax         tmin           af  \\\n",
      "count  2047.000000  2047.000000  2047.000000  2047.000000  2047.000000   \n",
      "mean   1937.792379     6.491451    13.981583     6.230093     3.763068   \n",
      "std      49.255586     3.452060     5.700771     4.213745     5.353217   \n",
      "min    1853.000000     1.000000    -0.200000    -5.800000     0.000000   \n",
      "25%    1895.000000     3.000000     9.000000     2.800000     0.000000   \n",
      "50%    1938.000000     6.000000    13.800000     5.600000     1.000000   \n",
      "75%    1980.000000     9.000000    19.100000    10.200000     6.000000   \n",
      "max    2023.000000    12.000000    27.400000    15.700000    28.000000   \n",
      "\n",
      "              rain         tavg  \n",
      "count  2047.000000  2047.000000  \n",
      "mean     46.154763    10.102296  \n",
      "std      24.957228     4.909663  \n",
      "min       0.000000    -3.000000  \n",
      "25%      26.100000     6.000000  \n",
      "50%      44.200000     9.700000  \n",
      "75%      64.250000    14.650000  \n",
      "max      99.900000    21.100000  \n"
     ]
    }
   ],
   "source": [
    "print(Data.describe())"
   ]
  },
  {
   "cell_type": "markdown",
   "id": "411b47dc",
   "metadata": {},
   "source": [
    "# split data"
   ]
  },
  {
   "cell_type": "code",
   "execution_count": null,
   "id": "43872fc5",
   "metadata": {},
   "outputs": [],
   "source": []
  },
  {
   "cell_type": "code",
   "execution_count": null,
   "id": "ec0f7d09",
   "metadata": {},
   "outputs": [],
   "source": []
  },
  {
   "cell_type": "code",
   "execution_count": null,
   "id": "ad268325",
   "metadata": {},
   "outputs": [],
   "source": []
  },
  {
   "cell_type": "code",
   "execution_count": 26,
   "id": "f03e4dce",
   "metadata": {},
   "outputs": [],
   "source": [
    "\n",
    "X = Data.drop(columns=['tmax','yyyy','mm'])\n",
    "y = Data['tmax']"
   ]
  },
  {
   "cell_type": "code",
   "execution_count": 27,
   "id": "bbb6f6df",
   "metadata": {},
   "outputs": [
    {
     "name": "stdout",
     "output_type": "stream",
     "text": [
      "Feature Variables (X):\n",
      "   tmin    af  rain   tavg\n",
      "1   2.7   4.0  62.8   5.55\n",
      "2  -1.8  19.0  29.3   0.70\n",
      "3  -0.6  20.0  25.9   3.55\n",
      "4   4.5   0.0  60.1   8.55\n",
      "5   6.1   0.0  59.5  11.45\n"
     ]
    }
   ],
   "source": [
    "print(\"Feature Variables (X):\")\n",
    "print(X.head())"
   ]
  },
  {
   "cell_type": "code",
   "execution_count": 28,
   "id": "786e5f4e",
   "metadata": {},
   "outputs": [
    {
     "data": {
      "text/plain": [
       "1     8.4\n",
       "2     3.2\n",
       "3     7.7\n",
       "4    12.6\n",
       "5    16.8\n",
       "Name: tmax, dtype: float64"
      ]
     },
     "execution_count": 28,
     "metadata": {},
     "output_type": "execute_result"
    }
   ],
   "source": [
    "y.head()"
   ]
  },
  {
   "cell_type": "code",
   "execution_count": 29,
   "id": "9872f9ec",
   "metadata": {},
   "outputs": [],
   "source": [
    "# Define the splitting condition \n",
    "split_condition = 2000\n",
    "\n",
    "# Select the rows where the 'yyyy' column meets the condition for training\n",
    "X_train = X[Data['yyyy'] <= split_condition]\n",
    "y_train = y[Data['yyyy']<= split_condition]\n",
    "\n",
    "# For test data, select the rows where the 'yyyy' column is greater than 2000\n",
    "X_test = X[Data['yyyy'] > split_condition]\n",
    "y_test = y[Data['yyyy']> split_condition]"
   ]
  },
  {
   "cell_type": "code",
   "execution_count": 30,
   "id": "3c438000",
   "metadata": {
    "scrolled": true
   },
   "outputs": [
    {
     "name": "stdout",
     "output_type": "stream",
     "text": [
      "Train Data:\n",
      "      tmin    af  rain   tavg\n",
      "1      2.7   4.0  62.8   5.55\n",
      "2     -1.8  19.0  29.3   0.70\n",
      "3     -0.6  20.0  25.9   3.55\n",
      "4      4.5   0.0  60.1   8.55\n",
      "5      6.1   0.0  59.5  11.45\n",
      "...    ...   ...   ...    ...\n",
      "1772  13.3   0.0  58.3  18.00\n",
      "1773  12.1   0.0  87.2  15.65\n",
      "1774   8.2   0.0  19.5  11.25\n",
      "1775   4.8   0.0  99.1   7.70\n",
      "1776   4.2   7.0  99.8   6.40\n",
      "\n",
      "[1776 rows x 4 columns]\n",
      "\n",
      "Test Data:\n",
      "      tmin    af  rain   tavg\n",
      "1777   1.2  13.0  57.4   3.80\n",
      "1778   2.0  10.0  68.6   5.40\n",
      "1779   3.1   5.0  75.1   6.05\n",
      "1780   4.8   0.0  72.7   8.85\n",
      "1781   7.9   0.0  35.5  13.20\n",
      "...    ...   ...   ...    ...\n",
      "2043   4.5   9.0   4.9   7.55\n",
      "2044   5.1   1.0  65.9   9.40\n",
      "2045   5.1   0.0  51.2   9.40\n",
      "2046  12.1   0.0  40.5  17.95\n",
      "2047  12.1   0.0  99.9  17.95\n",
      "\n",
      "[271 rows x 4 columns]\n"
     ]
    }
   ],
   "source": [
    "# Print sample data from both sets\n",
    "print(\"Train Data:\")\n",
    "print(X_train)\n",
    "\n",
    "print(\"\\nTest Data:\")\n",
    "print(X_test)"
   ]
  },
  {
   "cell_type": "code",
   "execution_count": 31,
   "id": "3cba2009",
   "metadata": {},
   "outputs": [
    {
     "name": "stdout",
     "output_type": "stream",
     "text": [
      "X_train shape: (1776, 4)\n",
      "X_test shape: (271, 4)\n",
      "y_train shape: (1776,)\n",
      "y_test shape: (271,)\n"
     ]
    }
   ],
   "source": [
    "# Print the shapes of the resulting arrays\n",
    "print(\"X_train shape:\", X_train.shape)\n",
    "print(\"X_test shape:\", X_test.shape)\n",
    "print(\"y_train shape:\", y_train.shape)\n",
    "print(\"y_test shape:\", y_test.shape)"
   ]
  },
  {
   "cell_type": "code",
   "execution_count": 32,
   "id": "89b998bb",
   "metadata": {},
   "outputs": [
    {
     "name": "stdout",
     "output_type": "stream",
     "text": [
      "Requirement already satisfied: pandas in c:\\users\\krupa\\anaconda3\\lib\\site-packages (1.4.4)\n",
      "Requirement already satisfied: numpy in c:\\users\\krupa\\anaconda3\\lib\\site-packages (1.21.5)\n",
      "Requirement already satisfied: statsmodels in c:\\users\\krupa\\anaconda3\\lib\\site-packages (0.13.2)\n",
      "Requirement already satisfied: matplotlib in c:\\users\\krupa\\anaconda3\\lib\\site-packages (3.5.2)\n",
      "Requirement already satisfied: python-dateutil>=2.8.1 in c:\\users\\krupa\\anaconda3\\lib\\site-packages (from pandas) (2.8.2)\n",
      "Requirement already satisfied: pytz>=2020.1 in c:\\users\\krupa\\anaconda3\\lib\\site-packages (from pandas) (2023.3)\n",
      "Requirement already satisfied: scipy>=1.3 in c:\\users\\krupa\\anaconda3\\lib\\site-packages (from statsmodels) (1.9.1)\n",
      "Requirement already satisfied: patsy>=0.5.2 in c:\\users\\krupa\\anaconda3\\lib\\site-packages (from statsmodels) (0.5.2)\n",
      "Requirement already satisfied: packaging>=21.3 in c:\\users\\krupa\\anaconda3\\lib\\site-packages (from statsmodels) (21.3)\n",
      "Requirement already satisfied: cycler>=0.10 in c:\\users\\krupa\\anaconda3\\lib\\site-packages (from matplotlib) (0.11.0)\n",
      "Requirement already satisfied: fonttools>=4.22.0 in c:\\users\\krupa\\anaconda3\\lib\\site-packages (from matplotlib) (4.25.0)\n",
      "Requirement already satisfied: kiwisolver>=1.0.1 in c:\\users\\krupa\\anaconda3\\lib\\site-packages (from matplotlib) (1.4.2)\n",
      "Requirement already satisfied: pillow>=6.2.0 in c:\\users\\krupa\\anaconda3\\lib\\site-packages (from matplotlib) (9.2.0)\n",
      "Requirement already satisfied: pyparsing>=2.2.1 in c:\\users\\krupa\\anaconda3\\lib\\site-packages (from matplotlib) (3.0.9)\n",
      "Requirement already satisfied: six in c:\\users\\krupa\\anaconda3\\lib\\site-packages (from patsy>=0.5.2->statsmodels) (1.16.0)\n",
      "Note: you may need to restart the kernel to use updated packages.\n"
     ]
    }
   ],
   "source": [
    "pip install pandas numpy statsmodels matplotlib"
   ]
  },
  {
   "cell_type": "code",
   "execution_count": 33,
   "id": "4f66cae6",
   "metadata": {},
   "outputs": [
    {
     "ename": "NameError",
     "evalue": "name 'Ridge' is not defined",
     "output_type": "error",
     "traceback": [
      "\u001b[1;31m---------------------------------------------------------------------------\u001b[0m",
      "\u001b[1;31mNameError\u001b[0m                                 Traceback (most recent call last)",
      "\u001b[1;32m~\\AppData\\Local\\Temp\\ipykernel_30908\\102426658.py\u001b[0m in \u001b[0;36m<module>\u001b[1;34m\u001b[0m\n\u001b[0;32m      8\u001b[0m     \u001b[1;34m'CatBoost Regressor'\u001b[0m\u001b[1;33m:\u001b[0m \u001b[0mCatBoostRegressor\u001b[0m\u001b[1;33m(\u001b[0m\u001b[1;33m)\u001b[0m\u001b[1;33m,\u001b[0m\u001b[1;33m\u001b[0m\u001b[1;33m\u001b[0m\u001b[0m\n\u001b[0;32m      9\u001b[0m     \u001b[1;34m'Lasso Regression'\u001b[0m\u001b[1;33m:\u001b[0m \u001b[0mLasso\u001b[0m\u001b[1;33m(\u001b[0m\u001b[1;33m)\u001b[0m\u001b[1;33m,\u001b[0m\u001b[1;33m\u001b[0m\u001b[1;33m\u001b[0m\u001b[0m\n\u001b[1;32m---> 10\u001b[1;33m     \u001b[1;34m'Ridge Regression'\u001b[0m\u001b[1;33m:\u001b[0m \u001b[0mRidge\u001b[0m\u001b[1;33m(\u001b[0m\u001b[1;33m)\u001b[0m\u001b[1;33m,\u001b[0m\u001b[1;33m\u001b[0m\u001b[1;33m\u001b[0m\u001b[0m\n\u001b[0m\u001b[0;32m     11\u001b[0m }\n\u001b[0;32m     12\u001b[0m \u001b[1;33m\u001b[0m\u001b[0m\n",
      "\u001b[1;31mNameError\u001b[0m: name 'Ridge' is not defined"
     ]
    }
   ],
   "source": [
    "# Define the models\n",
    "models = {\n",
    "    'RF Regressor': RandomForestRegressor(),\n",
    "    'Linear Regression': LinearRegression(),\n",
    "    'ElasticNet': ElasticNet(),\n",
    "    'GBoost Regressor': GradientBoostingRegressor(),\n",
    "    'SVR': SVR(),\n",
    "    'CatBoost Regressor': CatBoostRegressor(),\n",
    "    'Lasso Regression': Lasso(),\n",
    "    'Ridge Regression': Ridge(),\n",
    "}\n",
    "\n",
    "# You can proceed with fitting and evaluating these models using your data\n",
    "\n",
    "model_r2_score = {}  # Initialize an empty dictionary to store R-squared scores\n",
    "\n",
    "for model_name, model in models.items():\n",
    "    model.fit(X_train, y_train)\n",
    "    model_r2_score[model_name] = model.score(X_test, y_test)"
   ]
  },
  {
   "cell_type": "code",
   "execution_count": null,
   "id": "a672681a",
   "metadata": {},
   "outputs": [],
   "source": [
    "model_comparison = pd.DataFrame({'model': model_r2_score.keys(), 'R-squared': model_r2_score.values()})\n",
    "print(model_comparison)"
   ]
  },
  {
   "cell_type": "markdown",
   "id": "c55742d0",
   "metadata": {},
   "source": [
    "# Random Forest Regressor"
   ]
  },
  {
   "cell_type": "code",
   "execution_count": 34,
   "id": "d4a28d40",
   "metadata": {
    "scrolled": true
   },
   "outputs": [
    {
     "name": "stdout",
     "output_type": "stream",
     "text": [
      "Fitting 5 folds for each of 20 candidates, totalling 100 fits\n"
     ]
    },
    {
     "data": {
      "text/plain": [
       "RandomizedSearchCV(cv=5, estimator=RandomForestRegressor(), n_iter=20,\n",
       "                   param_distributions={'max_depth': [None, 3, 5, 10],\n",
       "                                        'min_samples_leaf': array([ 1,  3,  5,  7,  9, 11, 13, 15, 17, 19]),\n",
       "                                        'min_samples_split': array([ 2,  4,  6,  8, 10, 12, 14, 16, 18]),\n",
       "                                        'n_estimators': array([ 10,  60, 110, 160, 210, 260, 310, 360, 410, 460, 510, 560, 610,\n",
       "       660, 710, 760, 810, 860, 910, 960])},\n",
       "                   verbose=True)"
      ]
     },
     "execution_count": 34,
     "metadata": {},
     "output_type": "execute_result"
    }
   ],
   "source": [
    "# Define the hyperparameter grid for random search\n",
    "rf_grid = {\n",
    "    \"n_estimators\": np.arange(10, 1000, 50),\n",
    "    \"max_depth\": [None, 3, 5, 10],\n",
    "    \"min_samples_split\": np.arange(2, 20, 2),\n",
    "    \"min_samples_leaf\": np.arange(1, 20, 2)\n",
    "}\n",
    "\n",
    "# Setup random seed\n",
    "np.random.seed(42)\n",
    "\n",
    "# Setup random hyperparameter search for RandomForestRegressor\n",
    "rs_rf = RandomizedSearchCV(\n",
    "    RandomForestRegressor(),\n",
    "    param_distributions=rf_grid,\n",
    "    cv=5,\n",
    "    n_iter=20,\n",
    "    verbose=True\n",
    ")\n",
    "\n",
    "# Fit random hyperparameter search model\n",
    "rs_rf.fit(X_train, y_train)"
   ]
  },
  {
   "cell_type": "code",
   "execution_count": 36,
   "id": "9740d667",
   "metadata": {},
   "outputs": [
    {
     "data": {
      "text/plain": [
       "{'n_estimators': 310,\n",
       " 'min_samples_split': 12,\n",
       " 'min_samples_leaf': 5,\n",
       " 'max_depth': None}"
      ]
     },
     "execution_count": 36,
     "metadata": {},
     "output_type": "execute_result"
    }
   ],
   "source": [
    "rs_rf.best_params_"
   ]
  },
  {
   "cell_type": "code",
   "execution_count": 37,
   "id": "6ccfe485",
   "metadata": {},
   "outputs": [
    {
     "data": {
      "text/plain": [
       "0.9789113173863612"
      ]
     },
     "execution_count": 37,
     "metadata": {},
     "output_type": "execute_result"
    }
   ],
   "source": [
    "# Evaluate the randomized search random forest model\n",
    "rs_rf.score(X_test, y_test)"
   ]
  },
  {
   "cell_type": "markdown",
   "id": "689b2b1c",
   "metadata": {},
   "source": [
    "# LinearRegression"
   ]
  },
  {
   "cell_type": "code",
   "execution_count": 38,
   "id": "de98247e",
   "metadata": {},
   "outputs": [
    {
     "name": "stdout",
     "output_type": "stream",
     "text": [
      "Fitting 5 folds for each of 8 candidates, totalling 40 fits\n"
     ]
    },
    {
     "data": {
      "text/plain": [
       "RandomizedSearchCV(cv=5, estimator=LinearRegression(), n_iter=20,\n",
       "                   param_distributions={'copy_X': [True, False],\n",
       "                                        'fit_intercept': [True, False],\n",
       "                                        'normalize': [True, False]},\n",
       "                   verbose=True)"
      ]
     },
     "execution_count": 38,
     "metadata": {},
     "output_type": "execute_result"
    }
   ],
   "source": [
    "import numpy as np\n",
    "from sklearn.linear_model import LinearRegression\n",
    "from sklearn.model_selection import RandomizedSearchCV\n",
    "\n",
    "# Define the hyperparameter grid for random search\n",
    "lr_grid = {\n",
    "    \"fit_intercept\": [True, False],\n",
    "    \"normalize\": [True, False],\n",
    "    \"copy_X\": [True, False]\n",
    "}\n",
    "\n",
    "# Set random seed for reproducibility\n",
    "np.random.seed(42)\n",
    "\n",
    "# Setup random hyperparameter search for LinearRegression\n",
    "rs_lr = RandomizedSearchCV(\n",
    "    LinearRegression(),           # Create an instance of LinearRegression\n",
    "    param_distributions=lr_grid,  # Use the defined hyperparameter grid\n",
    "    cv=5,                         # Number of cross-validation folds\n",
    "    n_iter=20,                    # Number of iterations in the search\n",
    "    verbose=True                 # Print progress during search\n",
    ")\n",
    "\n",
    "# Fit the random hyperparameter search model to training data\n",
    "rs_lr.fit(X_train, y_train)\n"
   ]
  },
  {
   "cell_type": "code",
   "execution_count": 39,
   "id": "da34cbb4",
   "metadata": {},
   "outputs": [
    {
     "data": {
      "text/plain": [
       "{'normalize': True, 'fit_intercept': False, 'copy_X': True}"
      ]
     },
     "execution_count": 39,
     "metadata": {},
     "output_type": "execute_result"
    }
   ],
   "source": [
    "# Evaluate the randomized search random forest model\n",
    "rs_lr.best_params_"
   ]
  },
  {
   "cell_type": "code",
   "execution_count": 40,
   "id": "511d7d20",
   "metadata": {},
   "outputs": [
    {
     "data": {
      "text/plain": [
       "0.9824359766930927"
      ]
     },
     "execution_count": 40,
     "metadata": {},
     "output_type": "execute_result"
    }
   ],
   "source": [
    "# Evaluate the randomized search random forest model\n",
    "rs_lr.score(X_test, y_test)"
   ]
  },
  {
   "cell_type": "markdown",
   "id": "df2e05b3",
   "metadata": {},
   "source": [
    "# Best model = RandomForestRegressor"
   ]
  },
  {
   "cell_type": "code",
   "execution_count": 41,
   "id": "43f1a14a",
   "metadata": {},
   "outputs": [],
   "source": [
    "from sklearn.metrics import mean_squared_error\n",
    "best_lr_model = rs_lr.best_estimator_\n",
    "\n",
    "# Predict using the best model\n",
    "y_pred_best_lr_model = best_lr_model.predict(X_test)\n",
    "\n",
    "# Calculate additional metrics\n",
    "mse_best_model = mean_squared_error(y_test, y_pred_best_lr_model)\n",
    "rmse_best_model = np.sqrt(mse_best_model)\n",
    "r2_best_model = best_lr_model.score(X_test, y_test)"
   ]
  },
  {
   "cell_type": "code",
   "execution_count": 42,
   "id": "243e1cb4",
   "metadata": {},
   "outputs": [
    {
     "name": "stdout",
     "output_type": "stream",
     "text": [
      "Best Model Metrics:\n",
      "Mean Squared Error: 0.5574110075706619\n",
      "Root Mean Squared Error: 0.7465996300365155\n",
      "R-squared: 0.9824359766930927\n"
     ]
    }
   ],
   "source": [
    "print(\"Best Model Metrics:\")\n",
    "print(\"Mean Squared Error:\", mse_best_model)\n",
    "print(\"Root Mean Squared Error:\", rmse_best_model)\n",
    "print(\"R-squared:\", r2_best_model)"
   ]
  },
  {
   "cell_type": "code",
   "execution_count": 43,
   "id": "65291064",
   "metadata": {
    "scrolled": true
   },
   "outputs": [
    {
     "name": "stdout",
     "output_type": "stream",
     "text": [
      "[ 6.3988132   8.79613781  8.99472711 12.89288001 18.49784114 20.70186986\n",
      " 23.40137129 22.69773484 17.90225982 16.99831004 11.19810381  6.80156341\n",
      "  9.19674009 11.09492968 12.39803813 15.19492903 16.79747522 20.00000358\n",
      " 22.09692856 22.80133348 19.70137828 14.80126862 11.79971037  8.8936867\n",
      "  7.59581179  8.40142817 13.29768155 15.29690493 17.4975571  22.39965625\n",
      " 23.70151332 25.50538605 21.29819013 13.9970786  11.99368732  8.69569053\n",
      "  8.79697888  8.70212597 10.89483001 14.69433814 17.99869154 21.80331087\n",
      " 21.99790971 23.40469958 20.10337852 14.70156996 10.89971959  8.59850356\n",
      "  9.39950818  7.30176701 11.19924879 14.29603327 17.19852871 21.59686785\n",
      " 22.30412842 23.10213891 20.90230612 17.10161873  9.90048554  7.69869388\n",
      "  7.20135057  6.59990159  9.19677659 13.89759409 17.60392998 23.10381823\n",
      " 27.09864751 21.80171885 22.09913146 17.2044336  12.09442946  9.39742076\n",
      " 10.39621305  9.69563159 11.9960434  17.79788377 17.49722932 20.49781818\n",
      " 20.60605918 21.70201272 19.20280845 15.09671551 11.29653651  8.29828269\n",
      " 10.2934338  10.50001275 10.59153308 10.59610039 10.59989996 20.09883166\n",
      " 21.99818558 20.80182382 17.79822626 14.59688241 10.09394563  6.8996142\n",
      "  6.29966015  7.8980028  12.3970833  15.59674059 18.19776046 21.99878041\n",
      " 22.4000324  22.70263286 20.20349679 16.19914281 12.50287897  6.79441791\n",
      "  4.69842413  7.09358637 11.29753187 15.79575869 17.59810087 23.00019828\n",
      " 23.90601425 21.4015914  18.79976547 14.49965567  8.20071297  2.70379966\n",
      "  6.99892949 10.39643185 12.39716007 19.399679   18.89771513 19.29916266\n",
      " 21.39895002 20.69909808 20.701204   20.70172256 13.49949114  9.29444082\n",
      "  9.79931692  7.30120573 13.99588672 12.59650083 17.69921084 18.90178862\n",
      " 18.90666301 18.89859245 18.90123236 13.4007064  10.09309598  8.59906079\n",
      "  6.40026576  6.1956082   6.29694482 12.89885923 15.89464114 19.30263225\n",
      " 25.50197781 23.10465992 19.0001508  16.29743006  9.89572218  9.99039596\n",
      "  9.29544767  9.69221745 12.79504165 12.79305363 12.78927291 21.5019455\n",
      " 24.90173612 20.79761613 21.10465839 16.799103   11.49361179  8.69865882\n",
      "  8.39717248  7.49747936 11.39637279 15.89536442 16.79664896 21.10046736\n",
      " 22.60134402 21.30200343 18.39932211 15.09896885 13.09826965 13.39891051\n",
      "  9.39350498  9.0971182  10.19223274 12.89396817 18.39436519 19.99744878\n",
      " 23.3071208  23.5031291  20.90342943 15.09978666  9.39375268  9.60124103\n",
      "  7.29857722  9.49696268 13.6967387  15.09776154 18.99721029 22.70360862\n",
      " 23.30172198 21.40079832 18.49895759 18.503436   10.69636266  8.29683381\n",
      "  8.89566528  6.40103862  9.09305697 14.19815145 19.89381781 22.80410635\n",
      " 27.40343165 23.40238244 20.40044314 15.59821495 11.69664412 10.19584364\n",
      "  7.20216999 11.79693836 12.69676212 15.0979844  17.99839669 20.39499963\n",
      " 24.50252811 23.90173604 20.59645389 14.50076599  9.60008941  9.39403541\n",
      "  9.59794725 10.49181704 11.39598771 17.79417542 20.3997397  21.59872986\n",
      " 22.50101464 23.50711149 20.00133884 14.1963225  11.90122196  7.99398208\n",
      "  6.60003113  8.89731719 11.59681248 12.49628007 15.69193758 21.39965273\n",
      " 23.70143802 21.00429389 21.60171751 16.19664335 10.90033843  9.79635816\n",
      "  8.4009919  11.09381322 12.69571289 15.29827691 18.99971942 21.6993373\n",
      " 25.90522465 26.4059631  20.30000786 17.89690446 12.80349485  7.19635778\n",
      "  8.39710513 10.40206199 10.604457   13.6939837  13.69489419 23.80070052\n",
      " 23.79510016]\n",
      "Number of Predictions: 271\n"
     ]
    }
   ],
   "source": [
    "y_pred = rs_lr.predict(X_test)\n",
    "print(y_pred)\n",
    "\n",
    "num_predictions = len(y_pred)\n",
    "print(\"Number of Predictions:\", num_predictions)"
   ]
  },
  {
   "cell_type": "code",
   "execution_count": 48,
   "id": "e25c0684",
   "metadata": {},
   "outputs": [
    {
     "name": "stdout",
     "output_type": "stream",
     "text": [
      "      yyyy  mm  tmax  predicted_tmax\n",
      "1777  2001   1   6.4        6.398813\n",
      "1778  2001   2   8.8        8.796138\n",
      "1779  2001   3   9.0        8.994727\n",
      "1780  2001   4  12.9       12.892880\n",
      "1781  2001   5  18.5       18.497841\n",
      "...    ...  ..   ...             ...\n",
      "2043  2023   3  10.6       10.604457\n",
      "2044  2023   4  13.7       13.693984\n",
      "2045  2023   5  18.3       13.694894\n",
      "2046  2023   6  23.8       23.800701\n",
      "2047  2023   7  21.5       23.795100\n",
      "\n",
      "[271 rows x 4 columns]\n"
     ]
    }
   ],
   "source": [
    "result_df = pd.DataFrame({\n",
    "    'yyyy': Data.loc[X_test.index, 'yyyy'],  # Get the 'yyyy' values corresponding to the test data\n",
    "    'mm': Data.loc[X_test.index, 'mm'],      # Get the 'mm' values corresponding to the test data\n",
    "    'tmax': y_test,                          # Original 'tmax' values from the test data\n",
    "    'predicted_tmax': y_pred        # Predicted 'tmax' values\n",
    "})\n",
    "\n",
    "# Print the resulting DataFrame\n",
    "print(result_df)"
   ]
  },
  {
   "cell_type": "code",
   "execution_count": 52,
   "id": "6bd98f79",
   "metadata": {},
   "outputs": [
    {
     "data": {
      "text/plain": [
       "2047"
      ]
     },
     "execution_count": 52,
     "metadata": {},
     "output_type": "execute_result"
    }
   ],
   "source": [
    "len(Data['yyyy'])"
   ]
  },
  {
   "cell_type": "markdown",
   "id": "cc45cedd",
   "metadata": {},
   "source": [
    "# Visualize predicted vs. actual values"
   ]
  },
  {
   "cell_type": "code",
   "execution_count": null,
   "id": "b7e59681",
   "metadata": {},
   "outputs": [],
   "source": []
  },
  {
   "cell_type": "code",
   "execution_count": null,
   "id": "0c53388a",
   "metadata": {},
   "outputs": [],
   "source": []
  },
  {
   "cell_type": "code",
   "execution_count": null,
   "id": "930b33d2",
   "metadata": {},
   "outputs": [],
   "source": []
  },
  {
   "cell_type": "code",
   "execution_count": null,
   "id": "636a924b",
   "metadata": {},
   "outputs": [],
   "source": []
  },
  {
   "cell_type": "code",
   "execution_count": 54,
   "id": "a216f94b",
   "metadata": {},
   "outputs": [
    {
     "data": {
      "image/png": "[encoded data removed]",
      "text/plain": [
       "<Figure size 1000x600 with 1 Axes>"
      ]
     },
     "metadata": {},
     "output_type": "display_data"
    }
   ],
   "source": [
    "# Plotting temperature data over months\n",
    "plt.style.use('default')\n",
    "plt.figure(figsize=(10, 6))\n",
    "\n",
    "plt.plot(Data.loc[X_test.index, 'yyyy'], y_test, label='Max Temperature')\n",
    "plt.plot(Data.loc[X_test.index, 'yyyy'], y_pred, label='Predicted Temperature')  # Corrected line\n",
    "\n",
    "plt.xlabel('Year')\n",
    "plt.ylabel('Temperature')\n",
    "plt.title('Temperature Trends Over Years')\n",
    "plt.legend()\n",
    "\n",
    "plt.show()"
   ]
  },
  {
   "cell_type": "code",
   "execution_count": null,
   "id": "4020f0b6",
   "metadata": {},
   "outputs": [],
   "source": []
  },
  {
   "cell_type": "markdown",
   "id": "053016d9",
   "metadata": {},
   "source": []
  },
  {
   "cell_type": "code",
   "execution_count": null,
   "id": "9668c902",
   "metadata": {},
   "outputs": [],
   "source": []
  },
  {
   "cell_type": "code",
   "execution_count": null,
   "id": "38554a6a",
   "metadata": {},
   "outputs": [],
   "source": []
  }
 ],
 "metadata": {
  "kernelspec": {
   "display_name": "Python 3 (ipykernel)",
   "language": "python",
   "name": "python3"
  },
  "language_info": {
   "codemirror_mode": {
    "name": "ipython",
    "version": 3
   },
   "file_extension": ".py",
   "mimetype": "text/x-python",
   "name": "python",
   "nbconvert_exporter": "python",
   "pygments_lexer": "ipython3",
   "version": "3.9.13"
  }
 },
 "nbformat": 4,
 "nbformat_minor": 5
}
